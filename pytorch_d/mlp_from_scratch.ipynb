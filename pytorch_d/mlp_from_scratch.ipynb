{
 "cells": [
  {
   "cell_type": "code",
   "execution_count": null,
   "metadata": {},
   "outputs": [
    {
     "name": "stdout",
     "output_type": "stream",
     "text": [
      "good luck 🍀\n"
     ]
    }
   ],
   "source": [
    "# Whas is MLP?\n",
    "# -> Multi Layer Perceptron.\n",
    "# Can you Draw it?\n",
    "# ->\n",
    "\n",
    "import torch \n",
    "import torch.nn as nn\n",
    "\n",
    "# Some basic stuff you need to setup every time.\n",
    "def _init_setup():\n",
    "    torch.manual_seed(1477741)\n",
    "    print(\"good luck 🍀\")\n",
    "_init_setup()\n",
    "\n",
    "\n",
    "class my_mlp(nn.Module):\n",
    "    def __init__(self, num_inputs, num_outputs):\n",
    "        super().__init__()\n",
    "\n",
    "        self.layers = nn.Sequential(\n",
    "            \n",
    "            # hideen layer[0]\n",
    "            nn.Linear(num_inputs, 3),\n",
    "            nn.ReLU(),\n",
    "            \n",
    "            # hidden layer[1]\n",
    "            nn.Linear(3, 6),\n",
    "            nn.ReLU(),\n",
    "            \n",
    "            # output layer[]\n",
    "            nn.Linear(6, num_outputs)\n",
    "        )\n",
    "    \n",
    "    def forward(self, x):\n",
    "        logits = self.layers[0](x)\n",
    "        return logits\n",
    "    \n",
    "    def print_f(self, x):\n",
    "        logits = self.layers[0](x)\n",
    "        return logits\n",
    "  \n",
    "model = my_mlp(5, 3)"
   ]
  },
  {
   "cell_type": "code",
   "execution_count": 9,
   "metadata": {},
   "outputs": [
    {
     "data": {
      "text/plain": [
       "tensor([ 0.2570,  0.4800, -0.0826], grad_fn=<ViewBackward0>)"
      ]
     },
     "execution_count": 9,
     "metadata": {},
     "output_type": "execute_result"
    }
   ],
   "source": [
    "x = torch.tensor([0.2, 0.2, 0.2, 0.2, 0.2])\n",
    "\n",
    "num_inputs = 5\n",
    "num_outputs = 3\n",
    "layers = nn.Sequential(\n",
    "    \n",
    "    # hideen layer[0]\n",
    "    nn.Linear(num_inputs, 3),\n",
    "    nn.ReLU(),\n",
    "    \n",
    "    # hidden layer[1]\n",
    "    nn.Linear(3, 6),\n",
    "    nn.ReLU(),\n",
    "    \n",
    "    # output layer[]\n",
    "    nn.Linear(6, num_outputs)\n",
    ")\n",
    "\n",
    "layers[0](x)"
   ]
  },
  {
   "cell_type": "code",
   "execution_count": 12,
   "metadata": {},
   "outputs": [
    {
     "data": {
      "text/plain": [
       "tensor([ 0.0317, -0.2882,  0.3947], grad_fn=<ViewBackward0>)"
      ]
     },
     "execution_count": 12,
     "metadata": {},
     "output_type": "execute_result"
    }
   ],
   "source": [
    "x = torch.tensor([0.2, 0.2, 0.2, 0.2, 0.2])\n",
    "\n",
    "num_inputs = 5\n",
    "num_outputs = 3\n",
    "layers = nn.Sequential(\n",
    "    \n",
    "    # hideen layer[0]\n",
    "    nn.Linear(num_inputs, 3),\n",
    "    \n",
    "    # hidden layer[1]\n",
    "    nn.Linear(3, 6),\n",
    "    \n",
    "    # output layer[]\n",
    "    nn.Linear(6, num_outputs)\n",
    ")\n",
    "\n",
    "layers[0](x)"
   ]
  },
  {
   "cell_type": "code",
   "execution_count": 8,
   "metadata": {},
   "outputs": [
    {
     "data": {
      "text/plain": [
       "my_mlp(\n",
       "  (layers): Sequential(\n",
       "    (0): Linear(in_features=5, out_features=3, bias=True)\n",
       "    (1): ReLU()\n",
       "    (2): Linear(in_features=3, out_features=6, bias=True)\n",
       "    (3): ReLU()\n",
       "    (4): Linear(in_features=6, out_features=3, bias=True)\n",
       "  )\n",
       ")"
      ]
     },
     "execution_count": 8,
     "metadata": {},
     "output_type": "execute_result"
    }
   ],
   "source": [
    "model"
   ]
  },
  {
   "cell_type": "code",
   "execution_count": 3,
   "metadata": {},
   "outputs": [
    {
     "data": {
      "text/plain": [
       "Parameter containing:\n",
       "tensor([[-0.1209,  0.1351,  0.1221,  0.1027, -0.0475,  0.2664],\n",
       "        [ 0.2330, -0.1021, -0.3709, -0.3705, -0.0308, -0.1215],\n",
       "        [ 0.2590, -0.3512, -0.2491,  0.2475,  0.1439, -0.2173]],\n",
       "       requires_grad=True)"
      ]
     },
     "execution_count": 3,
     "metadata": {},
     "output_type": "execute_result"
    }
   ],
   "source": [
    "model.layers[4].weight"
   ]
  },
  {
   "cell_type": "code",
   "execution_count": 4,
   "metadata": {},
   "outputs": [
    {
     "data": {
      "text/plain": [
       "tensor([-0.0695,  0.4918,  0.1604], grad_fn=<ViewBackward0>)"
      ]
     },
     "execution_count": 4,
     "metadata": {},
     "output_type": "execute_result"
    }
   ],
   "source": [
    "# our inputs\n",
    "x = torch.tensor([0.1, 0.1, 0.1, 0.1, 0.1,])\n",
    "# full forward will give use 3 out values.\n",
    "model.print_f(x)"
   ]
  },
  {
   "cell_type": "code",
   "execution_count": null,
   "metadata": {},
   "outputs": [],
   "source": []
  },
  {
   "cell_type": "code",
   "execution_count": 5,
   "metadata": {},
   "outputs": [
    {
     "name": "stdout",
     "output_type": "stream",
     "text": [
      "tensor([-0.0695,  0.4918,  0.1604], grad_fn=<AddBackward0>)\n",
      "tensor([0.0000, 0.4918, 0.1604], grad_fn=<ReluBackward0>)\n"
     ]
    }
   ],
   "source": [
    "ef = examples_features = torch.tensor([0.1, 0.1, 0.1, 0.1, 0.1,])\n",
    "mL1 = model_weights_0L = model.layers[0].weight\n",
    "wL1 = model.layers[0].bias\n",
    "out_linear = ef @ mL1.T + wL1\n",
    "print(out_linear) # -> Formula inside the model is (x @ w.T + b)\n",
    "ra = torch.relu(out_linear)\n",
    "print(ra)"
   ]
  },
  {
   "cell_type": "code",
   "execution_count": 6,
   "metadata": {},
   "outputs": [
    {
     "data": {
      "text/plain": [
       "Parameter containing:\n",
       "tensor([[ 0.0505,  0.0585, -0.1843,  0.1082, -0.1442],\n",
       "        [ 0.3844,  0.3576, -0.1766,  0.4423,  0.4139],\n",
       "        [-0.2217, -0.1785, -0.0777,  0.4190, -0.2147]], requires_grad=True)"
      ]
     },
     "execution_count": 6,
     "metadata": {},
     "output_type": "execute_result"
    }
   ],
   "source": [
    "model.layers[0].weight"
   ]
  },
  {
   "cell_type": "code",
   "execution_count": 7,
   "metadata": {},
   "outputs": [
    {
     "name": "stdout",
     "output_type": "stream",
     "text": [
      "2\n"
     ]
    }
   ],
   "source": [
    "print(2)"
   ]
  },
  {
   "cell_type": "code",
   "execution_count": null,
   "metadata": {},
   "outputs": [],
   "source": []
  }
 ],
 "metadata": {
  "kernelspec": {
   "display_name": "base",
   "language": "python",
   "name": "python3"
  },
  "language_info": {
   "codemirror_mode": {
    "name": "ipython",
    "version": 3
   },
   "file_extension": ".py",
   "mimetype": "text/x-python",
   "name": "python",
   "nbconvert_exporter": "python",
   "pygments_lexer": "ipython3",
   "version": "3.12.9"
  }
 },
 "nbformat": 4,
 "nbformat_minor": 2
}
