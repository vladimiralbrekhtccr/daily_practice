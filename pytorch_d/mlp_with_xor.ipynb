{
 "cells": [
  {
   "cell_type": "markdown",
   "metadata": {},
   "source": [
    "# Simple XOR with binary"
   ]
  },
  {
   "cell_type": "markdown",
   "metadata": {},
   "source": [
    "### Model XOR"
   ]
  },
  {
   "cell_type": "code",
   "execution_count": null,
   "metadata": {},
   "outputs": [],
   "source": [
    "import torch\n",
    "import torch.nn as nn\n",
    "\n",
    "class xor_mlp(nn.Module):\n",
    "    def __init__(self, input_size = 2, output_size = 1):\n",
    "        super().__init__()\n",
    "        self.input_size = input_size\n",
    "        self.hidden_size = 80 # increasing the hidden_size helped to improve the performance. But removing the ReLU and increasing the number of layers not.\n",
    "        self.output_size = output_size\n",
    "\n",
    "        self.mlp_layers = nn.Sequential(\n",
    "            # input_layer\n",
    "            nn.Linear(self.input_size, self.hidden_size), nn.ReLU(), # %shortcut: click + option to | | | | \n",
    "            \n",
    "            # hidden_layers\n",
    "            nn.Linear(self.hidden_size, self.hidden_size),nn.ReLU(),\n",
    "            nn.Linear(self.hidden_size, self.hidden_size),nn.ReLU(),\n",
    "            nn.Linear(self.hidden_size, self.hidden_size),nn.ReLU(),\n",
    "\n",
    "            # output_layer\n",
    "            nn.Linear(self.hidden_size, self.output_size), # -> we use Sigmoid because XOR is binary classificaiton\n",
    "            nn.Sigmoid() # convert the probability beteweeb 0 and \n",
    "\n",
    "        )\n",
    "\n",
    "    def forward(self, x):\n",
    "        out = self.mlp_layers(x)\n",
    "        return out\n",
    "    \n",
    "# init the model\n",
    "# model = xor_mlp()\n",
    "\n",
    "# example of flow: input(tensor.shape(4))\n",
    "# :::\n",
    "# x = torch.tensor([0.1, 0.2])\n",
    "# model(x)\n",
    "# :::"
   ]
  },
  {
   "cell_type": "markdown",
   "metadata": {},
   "source": [
    "### Dataset preparation"
   ]
  },
  {
   "cell_type": "code",
   "execution_count": 101,
   "metadata": {},
   "outputs": [],
   "source": [
    "from torch.utils.data import Dataset, DataLoader\n",
    "\n",
    "# XOR input pairs\n",
    "td_x = torch.tensor([[0.0, 0.0],\n",
    "                    [0.0, 1.0],\n",
    "                    [1.0, 0.0],\n",
    "                    [1.0, 1.0]])\n",
    "\n",
    "# XOR outputs: 0^0=0, 0^1=1, 1^0=1, 1^1=0\n",
    "td_y = torch.tensor([0.0, 1.0, 1.0, 0.0,])\n",
    "\n",
    "\n",
    "class Toy_dataset_xor(Dataset):\n",
    "    def __init__(self, x, y):\n",
    "        self.input_f = x\n",
    "        self.labels_y = y\n",
    "\n",
    "    def __len__(self):\n",
    "        return self.labels_y.shape[0]\n",
    "\n",
    "\n",
    "    def __getitem__(self, index):\n",
    "        x = self.input_f[index]\n",
    "        y = self.labels_y[index]\n",
    "        return x, y.unsqueeze(0)\n",
    "\n",
    "\n",
    "\n",
    "dataset_1 = Toy_dataset_xor(td_x, td_y)\n",
    "\n",
    "train_loader = DataLoader(\n",
    "    dataset=dataset_1,\n",
    "    batch_size=4,\n",
    "    shuffle=True,\n",
    "    num_workers=0\n",
    ")\n",
    "\n",
    "# for batch_idx, (features, labels) in enumerate(train_loader):\n",
    "#     logits = model(features) \n",
    "#     print(f\"{batch_idx} \\n\")    \n",
    "#     print(f\"{features} \\n\")\n",
    "#     print(f\"{labels} \\n\")"
   ]
  },
  {
   "cell_type": "markdown",
   "metadata": {},
   "source": [
    "### Train_loop"
   ]
  },
  {
   "cell_type": "code",
   "execution_count": null,
   "metadata": {},
   "outputs": [],
   "source": [
    "# 1 Sample of train loop\n",
    "# init\n",
    "model = xor_mlp()\n",
    "criterion = nn.BCEWithLogitsLoss()\n",
    "optimizer = torch.optim.AdamW(params = model.parameters(), lr=0.01)\n",
    "\n",
    "# train\n",
    "model.train()\n",
    "logits = model(torch.tensor([1., 0.]))\n",
    "loss = criterion(logits, torch.tensor([0.]))\n",
    "optimizer.zero_grad() # make sure to keep only necessary grads\n",
    "loss.backward()\n",
    "optimizer.step()\n",
    "print(loss.item())\n",
    "model.eval()"
   ]
  },
  {
   "cell_type": "code",
   "execution_count": 155,
   "metadata": {},
   "outputs": [
    {
     "name": "stdout",
     "output_type": "stream",
     "text": [
      "1\n",
      "0.727141261100769\n",
      "2\n",
      "0.7214694023132324\n",
      "3\n",
      "0.7145631313323975\n",
      "4\n",
      "0.7032269835472107\n",
      "5\n",
      "0.6885955929756165\n",
      "6\n",
      "0.6801382899284363\n",
      "7\n",
      "0.6715609431266785\n",
      "8\n",
      "0.6466799974441528\n",
      "9\n",
      "0.6182271242141724\n",
      "10\n",
      "0.5990081429481506\n",
      "11\n",
      "0.5718968510627747\n",
      "12\n",
      "0.5591419339179993\n",
      "13\n",
      "0.5453067421913147\n",
      "14\n",
      "0.5305672883987427\n",
      "15\n",
      "0.5169280171394348\n",
      "16\n",
      "0.508049488067627\n",
      "17\n",
      "0.5043385028839111\n",
      "18\n",
      "0.5033983588218689\n",
      "19\n",
      "0.5032436847686768\n",
      "20\n",
      "0.5032377243041992\n"
     ]
    },
    {
     "data": {
      "text/plain": [
       "xor_mlp(\n",
       "  (mlp_layers): Sequential(\n",
       "    (0): Linear(in_features=2, out_features=80, bias=True)\n",
       "    (1): ReLU()\n",
       "    (2): Linear(in_features=80, out_features=80, bias=True)\n",
       "    (3): ReLU()\n",
       "    (4): Linear(in_features=80, out_features=80, bias=True)\n",
       "    (5): ReLU()\n",
       "    (6): Linear(in_features=80, out_features=80, bias=True)\n",
       "    (7): ReLU()\n",
       "    (8): Linear(in_features=80, out_features=1, bias=True)\n",
       "    (9): Sigmoid()\n",
       "  )\n",
       ")"
      ]
     },
     "execution_count": 155,
     "metadata": {},
     "output_type": "execute_result"
    }
   ],
   "source": [
    "model = xor_mlp()\n",
    "criterion = nn.BCEWithLogitsLoss()\n",
    "optimizer = torch.optim.AdamW(params = model.parameters(), lr=0.01)\n",
    "\n",
    "EPOCHS=20\n",
    "model.train()\n",
    "idx = 0\n",
    "for epoch in  range(EPOCHS):\n",
    "    for batch_idx, (features, labels) in enumerate(train_loader):\n",
    "        logits = model(features)\n",
    "        loss = criterion(logits, labels)\n",
    "        optimizer.zero_grad()\n",
    "        loss.backward()\n",
    "        optimizer.step()\n",
    "        idx += 1\n",
    "        print(idx)\n",
    "        print(loss.item())\n",
    "model.eval()\n",
    "\n",
    "# loss = 0.5 is actually 100% probability \n",
    "# model.eval()\n",
    "# x = torch.tensor([1.0, 0.0]) # so if we will specify [5.0, 0.0] -> it will also give us the correct answer if we imagint 5 = 1 and basically model learned this pattern\n",
    "# model(x)"
   ]
  },
  {
   "cell_type": "markdown",
   "metadata": {},
   "source": [
    "# Start of the Gemma training"
   ]
  },
  {
   "cell_type": "code",
   "execution_count": 2,
   "metadata": {},
   "outputs": [
    {
     "name": "stderr",
     "output_type": "stream",
     "text": [
      "/Users/admin/miniconda3/lib/python3.12/site-packages/tqdm/auto.py:21: TqdmWarning: IProgress not found. Please update jupyter and ipywidgets. See https://ipywidgets.readthedocs.io/en/stable/user_install.html\n",
      "  from .autonotebook import tqdm as notebook_tqdm\n"
     ]
    }
   ],
   "source": [
    "from transformers import PretrainedConfig, PreTrainedModel"
   ]
  },
  {
   "cell_type": "code",
   "execution_count": 3,
   "metadata": {},
   "outputs": [
    {
     "data": {
      "text/plain": [
       "Softmax(dim=tensor([0.5000, 0.1000]))"
      ]
     },
     "execution_count": 3,
     "metadata": {},
     "output_type": "execute_result"
    }
   ],
   "source": [
    "x = torch.tensor([0.5, 0.1])\n",
    "nn.Softmax(x)"
   ]
  },
  {
   "cell_type": "code",
   "execution_count": 57,
   "metadata": {},
   "outputs": [
    {
     "data": {
      "text/plain": [
       "tensor([0.])"
      ]
     },
     "execution_count": 57,
     "metadata": {},
     "output_type": "execute_result"
    }
   ],
   "source": [
    "# Data\n",
    "#  input\n",
    "x = dataset_1[0][0]\n",
    "x\n",
    "y = dataset_1[0][1]\n",
    "y\n",
    "\n"
   ]
  },
  {
   "cell_type": "code",
   "execution_count": 45,
   "metadata": {},
   "outputs": [
    {
     "data": {
      "text/plain": [
       "tensor([0.4593], grad_fn=<SigmoidBackward0>)"
      ]
     },
     "execution_count": 45,
     "metadata": {},
     "output_type": "execute_result"
    }
   ],
   "source": [
    "optimizer = torch.optim.AdamW(model.parameters(), lr=0.5)\n",
    "logits = model(x)\n",
    "logits"
   ]
  },
  {
   "cell_type": "code",
   "execution_count": 43,
   "metadata": {},
   "outputs": [
    {
     "data": {
      "text/plain": [
       "tensor([0.4593], grad_fn=<SigmoidBackward0>)"
      ]
     },
     "execution_count": 43,
     "metadata": {},
     "output_type": "execute_result"
    }
   ],
   "source": [
    "logits"
   ]
  },
  {
   "cell_type": "code",
   "execution_count": 42,
   "metadata": {},
   "outputs": [
    {
     "data": {
      "text/plain": [
       "tensor(0.)"
      ]
     },
     "execution_count": 42,
     "metadata": {},
     "output_type": "execute_result"
    }
   ],
   "source": [
    "y"
   ]
  },
  {
   "cell_type": "code",
   "execution_count": 59,
   "metadata": {},
   "outputs": [
    {
     "data": {
      "text/plain": [
       "torch.Size([2])"
      ]
     },
     "execution_count": 59,
     "metadata": {},
     "output_type": "execute_result"
    }
   ],
   "source": [
    "x.shape"
   ]
  },
  {
   "cell_type": "code",
   "execution_count": 58,
   "metadata": {},
   "outputs": [
    {
     "data": {
      "text/plain": [
       "torch.Size([1])"
      ]
     },
     "execution_count": 58,
     "metadata": {},
     "output_type": "execute_result"
    }
   ],
   "source": [
    "y.shape"
   ]
  },
  {
   "cell_type": "code",
   "execution_count": 68,
   "metadata": {},
   "outputs": [
    {
     "data": {
      "text/plain": [
       "tensor([0.], grad_fn=<SigmoidBackward0>)"
      ]
     },
     "execution_count": 68,
     "metadata": {},
     "output_type": "execute_result"
    }
   ],
   "source": [
    "logits"
   ]
  },
  {
   "cell_type": "code",
   "execution_count": 69,
   "metadata": {},
   "outputs": [
    {
     "data": {
      "text/plain": [
       "tensor([0.])"
      ]
     },
     "execution_count": 69,
     "metadata": {},
     "output_type": "execute_result"
    }
   ],
   "source": [
    "y"
   ]
  },
  {
   "cell_type": "code",
   "execution_count": null,
   "metadata": {},
   "outputs": [
    {
     "name": "stdout",
     "output_type": "stream",
     "text": [
      "0.6931471824645996\n"
     ]
    }
   ],
   "source": []
  },
  {
   "cell_type": "code",
   "execution_count": null,
   "metadata": {},
   "outputs": [],
   "source": [
    "\n",
    "# # sample of loss\n",
    "\n",
    "# import torch.nn.functional as F \n",
    "# optimizer = torch.optim.AdamW(model.parameters(), lr=0.5)\n",
    "# logits = model(x)\n",
    "# loss = F.cross_entropy(logits, y)\n",
    "# optimizer.zero_grad() # make sure to keep only necessary grads\n",
    "# loss.backward()\n",
    "# optimizer.step()\n",
    "# print(loss.item())  # ✅ безопасно: .item() извлекает значение\n",
    "\n",
    "# # optimizer.zero_grad()\n",
    "# # loss.backward() # that will only create the gradients\n",
    "# # optimizer.step() # Wi = Wi - lr * grad ||| W1 = -0.6059 - 0.5 * 0.0027\n",
    "# # grad defined based on the loss.\n",
    "# # Wi = Wi - lr * grad\n",
    "# # Bi = Bi - lr * grad\n"
   ]
  },
  {
   "cell_type": "code",
   "execution_count": 111,
   "metadata": {},
   "outputs": [
    {
     "data": {
      "text/plain": [
       "tensor([0., 0.])"
      ]
     },
     "execution_count": 111,
     "metadata": {},
     "output_type": "execute_result"
    }
   ],
   "source": [
    "dataset_1[0][0]"
   ]
  },
  {
   "cell_type": "code",
   "execution_count": null,
   "metadata": {},
   "outputs": [],
   "source": []
  },
  {
   "cell_type": "code",
   "execution_count": null,
   "metadata": {},
   "outputs": [],
   "source": []
  },
  {
   "cell_type": "code",
   "execution_count": null,
   "metadata": {},
   "outputs": [],
   "source": []
  },
  {
   "cell_type": "code",
   "execution_count": null,
   "metadata": {},
   "outputs": [],
   "source": []
  },
  {
   "cell_type": "code",
   "execution_count": null,
   "metadata": {},
   "outputs": [],
   "source": []
  },
  {
   "cell_type": "code",
   "execution_count": null,
   "metadata": {},
   "outputs": [],
   "source": []
  },
  {
   "cell_type": "code",
   "execution_count": null,
   "metadata": {},
   "outputs": [],
   "source": []
  },
  {
   "cell_type": "code",
   "execution_count": null,
   "metadata": {},
   "outputs": [],
   "source": []
  },
  {
   "cell_type": "code",
   "execution_count": null,
   "metadata": {},
   "outputs": [],
   "source": []
  },
  {
   "cell_type": "code",
   "execution_count": null,
   "metadata": {},
   "outputs": [],
   "source": []
  }
 ],
 "metadata": {
  "kernelspec": {
   "display_name": "base",
   "language": "python",
   "name": "python3"
  },
  "language_info": {
   "codemirror_mode": {
    "name": "ipython",
    "version": 3
   },
   "file_extension": ".py",
   "mimetype": "text/x-python",
   "name": "python",
   "nbconvert_exporter": "python",
   "pygments_lexer": "ipython3",
   "version": "3.12.9"
  }
 },
 "nbformat": 4,
 "nbformat_minor": 2
}
